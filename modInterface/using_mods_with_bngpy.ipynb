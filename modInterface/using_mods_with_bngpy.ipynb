{
 "cells": [
  {
   "cell_type": "markdown",
   "metadata": {},
   "source": [
    "# Overview\n",
    "*BeamNG.tech / BeamNG.drive*\n",
    "\n",
    "This tutorial shows you how the library interacts with custom mods. To do so we create a generic mod that runs code on the vehicle and game engine side.\n",
    "\n",
    "In this tutorial we differentiate between mod and lua module:\n",
    "\n",
    "mod - refers to a collection of files that change the behavior of the game (see the zip file)\n",
    "\n",
    "lua module - refers to a lua 'library' that has a global name containing a table \n",
    "\n",
    "\n",
    "## Setup\n",
    "\n",
    "These are the usual imports to create a simple scenario. As the point is to show the mod support, nothing is happening in the scenario. The mod only prints some text to the console, so take a look at the console or the log file you can find in the user path. Note that the console only flushes the last line to the log file if another console output line is generated."
   ]
  },
  {
   "cell_type": "code",
   "execution_count": 1,
   "metadata": {
    "tags": []
   },
   "outputs": [],
   "source": [
    "import os\n",
    "import zipfile\n",
    "from pathlib import Path\n",
    "\n",
    "from beamngpy import BeamNGpy, Scenario, Vehicle, set_up_simple_logging"
   ]
  },
  {
   "cell_type": "code",
   "execution_count": 2,
   "metadata": {
    "tags": []
   },
   "outputs": [
    {
     "name": "stderr",
     "output_type": "stream",
     "text": [
      "2024-03-03 13:59:04,732 |INFO     |beamngpy                      |Started BeamNGpy logging.\n"
     ]
    },
    {
     "name": "stdout",
     "output_type": "stream",
     "text": [
      "C:\\Users\\Tymon\\AppData\\Local/BeamNG.drive\n"
     ]
    }
   ],
   "source": [
    "USERPATH = fr'{os.getenv(\"LOCALAPPDATA\")}/BeamNG.drive'\n",
    "print(USERPATH)\n",
    "\n",
    "set_up_simple_logging()\n",
    "beamng = BeamNGpy('localhost', 64256, home='C:\\\\Users\\\\Tymon\\\\Documents\\\\BeamNG.tech.v0.30.6.0', user=USERPATH)\n",
    "\n",
    "scenario = Scenario('smallgrid', 'On how to use custom mods')\n",
    "\n",
    "etk = Vehicle('ego_vehicle', model='etk800', license='AI', extensions=['vehicleEngineCode'])\n",
    "scenario.add_vehicle(etk, pos=(0, 0, 0), rot_quat=(0, 0, 1, 0))\n",
    "\n",
    "pickup = Vehicle('some_vehicle', model='pickup', license='AI', extensions=['vehicleEngineCode'])\n",
    "scenario.add_vehicle(pickup, pos=(5, 0, 0), rot_quat=(0, 0, 1, 0))"
   ]
  },
  {
   "cell_type": "markdown",
   "metadata": {},
   "source": [
    "## Creating a Simple Mod\n",
    "\n",
    "Mods can be installed by creating a zip directory in the userfolder, with default location of `%localappdata%/BeamNG.tech/<VERSION>/mods`. They have to recreate the exact same file structure as you find in the game directory in `BeamNG.tech.vX.X.X.X/lua`.\n",
    "\n",
    "What happens here is that the two lua files in the BeamNGpy directory are zipped into a mod."
   ]
  },
  {
   "cell_type": "code",
   "execution_count": 3,
   "metadata": {
    "tags": []
   },
   "outputs": [
    {
     "name": "stdout",
     "output_type": "stream",
     "text": [
      "C:\\Users\\Tymon\\AppData\\Local\\BeamNG.drive\\0.30\\mods\\genericResearchMod.zip\n",
      "c:\\Users\\Tymon\\Documents\\BeamNGpy-1.27.1\\examples\\modInterface\n",
      "lua\\ge\\extensions\\util\\gameEngineCode.lua\n",
      "lua\\vehicle\\extensions\\vehicleEngineCode.lua\n"
     ]
    }
   ],
   "source": [
    "userpath = Path(USERPATH, '0.30')\n",
    "\n",
    "# setting up mod\n",
    "myModPath = userpath / 'mods' / 'genericResearchMod.zip' \n",
    "myModPath.parent.mkdir(parents=True, exist_ok=True)\n",
    "\n",
    "geCode = 'gameEngineCode.lua'\n",
    "zipGEpath = str(Path('lua') / 'ge' / 'extensions' / 'util' / geCode)\n",
    "veCode = 'vehicleEngineCode.lua'\n",
    "zipVEpath = str(Path('lua') / 'vehicle' / 'extensions' / veCode)\n",
    "localDir = Path(os.path.abspath('.'))\n",
    "\n",
    "print(myModPath)\n",
    "print(localDir)\n",
    "print(zipGEpath)\n",
    "print(zipVEpath)\n",
    "\n",
    "with zipfile.ZipFile(str(myModPath), 'w') as ziph:\n",
    "    ziph.write(localDir / geCode, arcname=zipGEpath)\n",
    "    ziph.write(localDir / veCode, arcname=zipVEpath)"
   ]
  },
  {
   "cell_type": "markdown",
   "metadata": {},
   "source": [
    "## Testing the mod\n",
    "\n",
    "To test the mod we start BeamNG.tech and give the python BeamNG class the location of the gameengine mod within the \"genericResearchMod.zip/lua/ge/extensions/\" directory. This is necessary to register the file as its own lua module within the game.\n",
    "\n",
    "After registration, it is available as util_gameEngineCode within the game - try typing `dump(util_gameEngineCode)` in the game's command prompt"
   ]
  },
  {
   "cell_type": "code",
   "execution_count": 5,
   "metadata": {
    "tags": []
   },
   "outputs": [
    {
     "name": "stderr",
     "output_type": "stream",
     "text": [
      "2024-03-03 13:59:40,845 |WARNING  |py.warnings                   |c:\\Users\\Tymon\\miniconda3\\envs\\beamng\\Lib\\site-packages\\beamngpy\\connection\\connection.py:-1: ResourceWarning: unclosed <socket.socket fd=4132, family=2, type=1, proto=0, laddr=('0.0.0.0', 60447)>\n",
      "\n",
      "2024-03-03 13:59:40,845 |WARNING  |py.warnings                   |c:\\Users\\Tymon\\miniconda3\\envs\\beamng\\Lib\\site-packages\\beamngpy\\connection\\connection.py:-1: ResourceWarning: unclosed <socket.socket fd=4132, family=2, type=1, proto=0, laddr=('0.0.0.0', 60447)>\n",
      "\n",
      "2024-03-03 13:59:40,846 |INFO     |beamngpy.BeamNGpy             |Opening BeamNGpy instance.\n",
      "2024-03-03 13:59:40,851 |INFO     |beamngpy.BeamNGpy             |Started BeamNG.\n",
      "2024-03-03 13:59:50,852 |INFO     |beamngpy.BeamNGpy             |Connecting to BeamNG.tech at: (localhost, 64256)\n",
      "2024-03-03 13:59:50,975 |INFO     |beamngpy.BeamNGpy             |Successfully connected to BeamNG.tech.\n",
      "2024-03-03 13:59:50,977 |INFO     |beamngpy.BeamNGpy             |BeamNGpy successfully connected to BeamNG.\n",
      "2024-03-03 13:59:54,257 |INFO     |beamngpy.BeamNGpy             |Loaded map.\n",
      "2024-03-03 13:59:54,622 |INFO     |beamngpy.Vehicle              |Vehicle some_vehicle connected to simulation.\n",
      "2024-03-03 13:59:54,622 |INFO     |beamngpy.BeamNGpy             |Attempting to connect to vehicle some_vehicle\n",
      "2024-03-03 13:59:56,567 |INFO     |beamngpy.BeamNGpy             |Successfully connected to BeamNG.tech.\n",
      "2024-03-03 13:59:56,568 |INFO     |beamngpy.BeamNGpy             |Successfully connected to vehicle some_vehicle.\n",
      "2024-03-03 13:59:56,692 |INFO     |beamngpy.Vehicle              |Vehicle ego_vehicle connected to simulation.\n",
      "2024-03-03 13:59:56,692 |INFO     |beamngpy.BeamNGpy             |Attempting to connect to vehicle ego_vehicle\n",
      "2024-03-03 13:59:58,630 |INFO     |beamngpy.BeamNGpy             |Successfully connected to BeamNG.tech.\n",
      "2024-03-03 13:59:58,630 |INFO     |beamngpy.BeamNGpy             |Successfully connected to vehicle ego_vehicle.\n",
      "2024-03-03 13:59:58,632 |INFO     |beamngpy.Scenario             |Connected to scenario: On how to use custom mods\n",
      "2024-03-03 13:59:58,688 |INFO     |beamngpy.BeamNGpy             |Starting scenario.\n"
     ]
    }
   ],
   "source": [
    "bng = beamng.open(extensions=['util/gameEngineCode'])\n",
    "scenario.make(beamng)\n",
    "bng.scenario.load(scenario)\n",
    "bng.scenario.start()"
   ]
  },
  {
   "cell_type": "markdown",
   "metadata": {},
   "source": [
    "## How to Call Lua Module Functions\n",
    "\n",
    "BeamNG.tech and BeamNGpy communicate via TCP sockets. \n",
    "Function parameters are send with the help of python dictionaries that are available as lua tables in the game. \n",
    "The mini mod from this tutorial follows the convention the BeamNGpy library established: Every value for the 'type' key helps identifying the appropriate handler, which for 'Foo' is expected to be 'handleFoo'.\n",
    "The `checkMessages` function in `lua/ge/extensions/tech/techCore.lua` and `lua/vehicle/extensions/tech/techCore.lua` checks whether a corresponding function is locally available and, if not, calls the `onSocketMessage` hook for every extension. \n",
    "\n",
    "## Data Transfer between BeamNGpy and BeamNG\n",
    "Any return value needs to be send with the help of the socket. See here an example on how to do it on the game engine side. The code for the vehicle side is the same, it just needs to be implemented in `lua/vehicle/extensions/tech/techCore.lua`."
   ]
  },
  {
   "cell_type": "code",
   "execution_count": null,
   "metadata": {
    "tags": []
   },
   "outputs": [],
   "source": [
    "def callFoo(bng):\n",
    "    '''\n",
    "    Executes handleFoo defined in gameEngineCode.lua.\n",
    "    '''\n",
    "    data = dict(type='Foo', someName='YourName')\n",
    "    response = bng.connection.send(data)\n",
    "    response.ack('FooAck')\n",
    "\n",
    "def callBar(veh):\n",
    "    '''\n",
    "    Executes handlebar defined in vehicleEngineCode.lua.\n",
    "    Here the code is executed in the VM of the etk800.\n",
    "    '''\n",
    "    data = dict(type='Bar', text='lorem ipsum...')\n",
    "    response = veh.connection.send(data)\n",
    "    response.ack('BarAck')\n",
    "\n",
    "def dataExchange(bng):\n",
    "    '''\n",
    "    Demonstrates how to transfer in game data to the python side.\n",
    "    '''\n",
    "    data = dict(type='GetListOfVehicleModels')\n",
    "    response = bng.connection.send(data).recv('ListOfVehicleModels')\n",
    "    print('List of spawned vehicle models: ', response['data'])"
   ]
  },
  {
   "cell_type": "code",
   "execution_count": null,
   "metadata": {
    "tags": []
   },
   "outputs": [
    {
     "ename": "BNGError",
     "evalue": "The request was not handled by BeamNG.tech. This can mean:\n- an incompatible version of BeamNG.tech/BeamNGpy\n- an internal error in BeamNG.tech\n- incorrectly implemented custom command",
     "output_type": "error",
     "traceback": [
      "\u001b[1;31m---------------------------------------------------------------------------\u001b[0m",
      "\u001b[1;31mBNGError\u001b[0m                                  Traceback (most recent call last)",
      "Cell \u001b[1;32mIn[6], line 1\u001b[0m\n\u001b[1;32m----> 1\u001b[0m \u001b[43mcallFoo\u001b[49m\u001b[43m(\u001b[49m\u001b[43mbng\u001b[49m\u001b[43m)\u001b[49m\n",
      "Cell \u001b[1;32mIn[5], line 7\u001b[0m, in \u001b[0;36mcallFoo\u001b[1;34m(bng)\u001b[0m\n\u001b[0;32m      5\u001b[0m data \u001b[38;5;241m=\u001b[39m \u001b[38;5;28mdict\u001b[39m(\u001b[38;5;28mtype\u001b[39m\u001b[38;5;241m=\u001b[39m\u001b[38;5;124m'\u001b[39m\u001b[38;5;124mFoo\u001b[39m\u001b[38;5;124m'\u001b[39m, someName\u001b[38;5;241m=\u001b[39m\u001b[38;5;124m'\u001b[39m\u001b[38;5;124mYourName\u001b[39m\u001b[38;5;124m'\u001b[39m)\n\u001b[0;32m      6\u001b[0m response \u001b[38;5;241m=\u001b[39m bng\u001b[38;5;241m.\u001b[39mconnection\u001b[38;5;241m.\u001b[39msend(data)\n\u001b[1;32m----> 7\u001b[0m \u001b[43mresponse\u001b[49m\u001b[38;5;241;43m.\u001b[39;49m\u001b[43mack\u001b[49m\u001b[43m(\u001b[49m\u001b[38;5;124;43m'\u001b[39;49m\u001b[38;5;124;43mFooAck\u001b[39;49m\u001b[38;5;124;43m'\u001b[39;49m\u001b[43m)\u001b[49m\n",
      "File \u001b[1;32mc:\\Users\\Tymon\\miniconda3\\envs\\beamng\\Lib\\site-packages\\beamngpy\\connection\\connection.py:275\u001b[0m, in \u001b[0;36mResponse.ack\u001b[1;34m(self, ack_type)\u001b[0m\n\u001b[0;32m    274\u001b[0m \u001b[38;5;28;01mdef\u001b[39;00m \u001b[38;5;21mack\u001b[39m(\u001b[38;5;28mself\u001b[39m, ack_type: \u001b[38;5;28mstr\u001b[39m) \u001b[38;5;241m-\u001b[39m\u001b[38;5;241m>\u001b[39m \u001b[38;5;28;01mNone\u001b[39;00m:\n\u001b[1;32m--> 275\u001b[0m     message \u001b[38;5;241m=\u001b[39m \u001b[38;5;28;43mself\u001b[39;49m\u001b[38;5;241;43m.\u001b[39;49m\u001b[43mrecv\u001b[49m\u001b[43m(\u001b[49m\u001b[43m)\u001b[49m\n\u001b[0;32m    276\u001b[0m     \u001b[38;5;28;01mif\u001b[39;00m message[\u001b[38;5;124m'\u001b[39m\u001b[38;5;124mtype\u001b[39m\u001b[38;5;124m'\u001b[39m] \u001b[38;5;241m!=\u001b[39m ack_type:\n\u001b[0;32m    277\u001b[0m         \u001b[38;5;28;01mraise\u001b[39;00m BNGError(\u001b[38;5;124mf\u001b[39m\u001b[38;5;124m'\u001b[39m\u001b[38;5;124mWrong ACK: \u001b[39m\u001b[38;5;132;01m{\u001b[39;00mack_type\u001b[38;5;132;01m}\u001b[39;00m\u001b[38;5;124m != \u001b[39m\u001b[38;5;132;01m{\u001b[39;00mmessage[\u001b[38;5;124m\"\u001b[39m\u001b[38;5;124mtype\u001b[39m\u001b[38;5;124m\"\u001b[39m]\u001b[38;5;132;01m}\u001b[39;00m\u001b[38;5;124m'\u001b[39m)\n",
      "File \u001b[1;32mc:\\Users\\Tymon\\miniconda3\\envs\\beamng\\Lib\\site-packages\\beamngpy\\connection\\connection.py:269\u001b[0m, in \u001b[0;36mResponse.recv\u001b[1;34m(self, type)\u001b[0m\n\u001b[0;32m    267\u001b[0m message \u001b[38;5;241m=\u001b[39m \u001b[38;5;28mself\u001b[39m\u001b[38;5;241m.\u001b[39mconnection\u001b[38;5;241m.\u001b[39mrecv(\u001b[38;5;28mself\u001b[39m\u001b[38;5;241m.\u001b[39mreq_id)\n\u001b[0;32m    268\u001b[0m \u001b[38;5;28;01mif\u001b[39;00m \u001b[38;5;28misinstance\u001b[39m(message, \u001b[38;5;167;01mException\u001b[39;00m):\n\u001b[1;32m--> 269\u001b[0m     \u001b[38;5;28;01mraise\u001b[39;00m message\n\u001b[0;32m    270\u001b[0m \u001b[38;5;28;01mif\u001b[39;00m \u001b[38;5;28mtype\u001b[39m \u001b[38;5;129;01mand\u001b[39;00m message[\u001b[38;5;124m'\u001b[39m\u001b[38;5;124mtype\u001b[39m\u001b[38;5;124m'\u001b[39m] \u001b[38;5;241m!=\u001b[39m \u001b[38;5;28mtype\u001b[39m:\n\u001b[0;32m    271\u001b[0m     \u001b[38;5;28;01mraise\u001b[39;00m BNGValueError(\u001b[38;5;124mf\u001b[39m\u001b[38;5;124m'\u001b[39m\u001b[38;5;124mGot Message type \u001b[39m\u001b[38;5;124m\"\u001b[39m\u001b[38;5;132;01m{\u001b[39;00mmessage[\u001b[38;5;124m\"\u001b[39m\u001b[38;5;124mtype\u001b[39m\u001b[38;5;124m\"\u001b[39m]\u001b[38;5;132;01m}\u001b[39;00m\u001b[38;5;124m\"\u001b[39m\u001b[38;5;124m but expected \u001b[39m\u001b[38;5;124m\"\u001b[39m\u001b[38;5;132;01m{\u001b[39;00m\u001b[38;5;28mtype\u001b[39m\u001b[38;5;132;01m}\u001b[39;00m\u001b[38;5;124m\"\u001b[39m\u001b[38;5;124m.\u001b[39m\u001b[38;5;124m'\u001b[39m)\n",
      "\u001b[1;31mBNGError\u001b[0m: The request was not handled by BeamNG.tech. This can mean:\n- an incompatible version of BeamNG.tech/BeamNGpy\n- an internal error in BeamNG.tech\n- incorrectly implemented custom command"
     ]
    }
   ],
   "source": [
    "callFoo(bng)"
   ]
  },
  {
   "cell_type": "code",
   "execution_count": null,
   "metadata": {
    "tags": []
   },
   "outputs": [
    {
     "ename": "BNGError",
     "evalue": "The request was not handled by BeamNG.tech. This can mean:\n- an incompatible version of BeamNG.tech/BeamNGpy\n- an internal error in BeamNG.tech\n- incorrectly implemented custom command",
     "output_type": "error",
     "traceback": [
      "\u001b[1;31m---------------------------------------------------------------------------\u001b[0m",
      "\u001b[1;31mBNGError\u001b[0m                                  Traceback (most recent call last)",
      "Cell \u001b[1;32mIn[8], line 1\u001b[0m\n\u001b[1;32m----> 1\u001b[0m \u001b[43mcallBar\u001b[49m\u001b[43m(\u001b[49m\u001b[43metk\u001b[49m\u001b[43m)\u001b[49m\n",
      "Cell \u001b[1;32mIn[6], line 16\u001b[0m, in \u001b[0;36mcallBar\u001b[1;34m(veh)\u001b[0m\n\u001b[0;32m     14\u001b[0m data \u001b[38;5;241m=\u001b[39m \u001b[38;5;28mdict\u001b[39m(\u001b[38;5;28mtype\u001b[39m\u001b[38;5;241m=\u001b[39m\u001b[38;5;124m'\u001b[39m\u001b[38;5;124mBar\u001b[39m\u001b[38;5;124m'\u001b[39m, text\u001b[38;5;241m=\u001b[39m\u001b[38;5;124m'\u001b[39m\u001b[38;5;124mlorem ipsum...\u001b[39m\u001b[38;5;124m'\u001b[39m)\n\u001b[0;32m     15\u001b[0m response \u001b[38;5;241m=\u001b[39m veh\u001b[38;5;241m.\u001b[39mconnection\u001b[38;5;241m.\u001b[39msend(data)\n\u001b[1;32m---> 16\u001b[0m \u001b[43mresponse\u001b[49m\u001b[38;5;241;43m.\u001b[39;49m\u001b[43mack\u001b[49m\u001b[43m(\u001b[49m\u001b[38;5;124;43m'\u001b[39;49m\u001b[38;5;124;43mBarAck\u001b[39;49m\u001b[38;5;124;43m'\u001b[39;49m\u001b[43m)\u001b[49m\n",
      "File \u001b[1;32mc:\\Users\\Tymon\\miniconda3\\envs\\beamng\\Lib\\site-packages\\beamngpy\\connection\\connection.py:275\u001b[0m, in \u001b[0;36mResponse.ack\u001b[1;34m(self, ack_type)\u001b[0m\n\u001b[0;32m    274\u001b[0m \u001b[38;5;28;01mdef\u001b[39;00m \u001b[38;5;21mack\u001b[39m(\u001b[38;5;28mself\u001b[39m, ack_type: \u001b[38;5;28mstr\u001b[39m) \u001b[38;5;241m-\u001b[39m\u001b[38;5;241m>\u001b[39m \u001b[38;5;28;01mNone\u001b[39;00m:\n\u001b[1;32m--> 275\u001b[0m     message \u001b[38;5;241m=\u001b[39m \u001b[38;5;28;43mself\u001b[39;49m\u001b[38;5;241;43m.\u001b[39;49m\u001b[43mrecv\u001b[49m\u001b[43m(\u001b[49m\u001b[43m)\u001b[49m\n\u001b[0;32m    276\u001b[0m     \u001b[38;5;28;01mif\u001b[39;00m message[\u001b[38;5;124m'\u001b[39m\u001b[38;5;124mtype\u001b[39m\u001b[38;5;124m'\u001b[39m] \u001b[38;5;241m!=\u001b[39m ack_type:\n\u001b[0;32m    277\u001b[0m         \u001b[38;5;28;01mraise\u001b[39;00m BNGError(\u001b[38;5;124mf\u001b[39m\u001b[38;5;124m'\u001b[39m\u001b[38;5;124mWrong ACK: \u001b[39m\u001b[38;5;132;01m{\u001b[39;00mack_type\u001b[38;5;132;01m}\u001b[39;00m\u001b[38;5;124m != \u001b[39m\u001b[38;5;132;01m{\u001b[39;00mmessage[\u001b[38;5;124m\"\u001b[39m\u001b[38;5;124mtype\u001b[39m\u001b[38;5;124m\"\u001b[39m]\u001b[38;5;132;01m}\u001b[39;00m\u001b[38;5;124m'\u001b[39m)\n",
      "File \u001b[1;32mc:\\Users\\Tymon\\miniconda3\\envs\\beamng\\Lib\\site-packages\\beamngpy\\connection\\connection.py:269\u001b[0m, in \u001b[0;36mResponse.recv\u001b[1;34m(self, type)\u001b[0m\n\u001b[0;32m    267\u001b[0m message \u001b[38;5;241m=\u001b[39m \u001b[38;5;28mself\u001b[39m\u001b[38;5;241m.\u001b[39mconnection\u001b[38;5;241m.\u001b[39mrecv(\u001b[38;5;28mself\u001b[39m\u001b[38;5;241m.\u001b[39mreq_id)\n\u001b[0;32m    268\u001b[0m \u001b[38;5;28;01mif\u001b[39;00m \u001b[38;5;28misinstance\u001b[39m(message, \u001b[38;5;167;01mException\u001b[39;00m):\n\u001b[1;32m--> 269\u001b[0m     \u001b[38;5;28;01mraise\u001b[39;00m message\n\u001b[0;32m    270\u001b[0m \u001b[38;5;28;01mif\u001b[39;00m \u001b[38;5;28mtype\u001b[39m \u001b[38;5;129;01mand\u001b[39;00m message[\u001b[38;5;124m'\u001b[39m\u001b[38;5;124mtype\u001b[39m\u001b[38;5;124m'\u001b[39m] \u001b[38;5;241m!=\u001b[39m \u001b[38;5;28mtype\u001b[39m:\n\u001b[0;32m    271\u001b[0m     \u001b[38;5;28;01mraise\u001b[39;00m BNGValueError(\u001b[38;5;124mf\u001b[39m\u001b[38;5;124m'\u001b[39m\u001b[38;5;124mGot Message type \u001b[39m\u001b[38;5;124m\"\u001b[39m\u001b[38;5;132;01m{\u001b[39;00mmessage[\u001b[38;5;124m\"\u001b[39m\u001b[38;5;124mtype\u001b[39m\u001b[38;5;124m\"\u001b[39m]\u001b[38;5;132;01m}\u001b[39;00m\u001b[38;5;124m\"\u001b[39m\u001b[38;5;124m but expected \u001b[39m\u001b[38;5;124m\"\u001b[39m\u001b[38;5;132;01m{\u001b[39;00m\u001b[38;5;28mtype\u001b[39m\u001b[38;5;132;01m}\u001b[39;00m\u001b[38;5;124m\"\u001b[39m\u001b[38;5;124m.\u001b[39m\u001b[38;5;124m'\u001b[39m)\n",
      "\u001b[1;31mBNGError\u001b[0m: The request was not handled by BeamNG.tech. This can mean:\n- an incompatible version of BeamNG.tech/BeamNGpy\n- an internal error in BeamNG.tech\n- incorrectly implemented custom command"
     ]
    }
   ],
   "source": [
    "callBar(etk)"
   ]
  },
  {
   "cell_type": "code",
   "execution_count": null,
   "metadata": {
    "tags": []
   },
   "outputs": [
    {
     "ename": "BNGError",
     "evalue": "The request was not handled by BeamNG.tech. This can mean:\n- an incompatible version of BeamNG.tech/BeamNGpy\n- an internal error in BeamNG.tech\n- incorrectly implemented custom command",
     "output_type": "error",
     "traceback": [
      "\u001b[1;31m---------------------------------------------------------------------------\u001b[0m",
      "\u001b[1;31mBNGError\u001b[0m                                  Traceback (most recent call last)",
      "Cell \u001b[1;32mIn[9], line 1\u001b[0m\n\u001b[1;32m----> 1\u001b[0m \u001b[43mdataExchange\u001b[49m\u001b[43m(\u001b[49m\u001b[43mbng\u001b[49m\u001b[43m)\u001b[49m\n",
      "Cell \u001b[1;32mIn[6], line 23\u001b[0m, in \u001b[0;36mdataExchange\u001b[1;34m(bng)\u001b[0m\n\u001b[0;32m     19\u001b[0m \u001b[38;5;250m\u001b[39m\u001b[38;5;124;03m'''\u001b[39;00m\n\u001b[0;32m     20\u001b[0m \u001b[38;5;124;03mDemonstrates how to transfer in game data to the python side.\u001b[39;00m\n\u001b[0;32m     21\u001b[0m \u001b[38;5;124;03m'''\u001b[39;00m\n\u001b[0;32m     22\u001b[0m data \u001b[38;5;241m=\u001b[39m \u001b[38;5;28mdict\u001b[39m(\u001b[38;5;28mtype\u001b[39m\u001b[38;5;241m=\u001b[39m\u001b[38;5;124m'\u001b[39m\u001b[38;5;124mGetListOfVehicleModels\u001b[39m\u001b[38;5;124m'\u001b[39m)\n\u001b[1;32m---> 23\u001b[0m response \u001b[38;5;241m=\u001b[39m \u001b[43mbng\u001b[49m\u001b[38;5;241;43m.\u001b[39;49m\u001b[43mconnection\u001b[49m\u001b[38;5;241;43m.\u001b[39;49m\u001b[43msend\u001b[49m\u001b[43m(\u001b[49m\u001b[43mdata\u001b[49m\u001b[43m)\u001b[49m\u001b[38;5;241;43m.\u001b[39;49m\u001b[43mrecv\u001b[49m\u001b[43m(\u001b[49m\u001b[38;5;124;43m'\u001b[39;49m\u001b[38;5;124;43mListOfVehicleModels\u001b[39;49m\u001b[38;5;124;43m'\u001b[39;49m\u001b[43m)\u001b[49m\n\u001b[0;32m     24\u001b[0m \u001b[38;5;28mprint\u001b[39m(\u001b[38;5;124m'\u001b[39m\u001b[38;5;124mList of spawned vehicle models: \u001b[39m\u001b[38;5;124m'\u001b[39m, response[\u001b[38;5;124m'\u001b[39m\u001b[38;5;124mdata\u001b[39m\u001b[38;5;124m'\u001b[39m])\n",
      "File \u001b[1;32mc:\\Users\\Tymon\\miniconda3\\envs\\beamng\\Lib\\site-packages\\beamngpy\\connection\\connection.py:269\u001b[0m, in \u001b[0;36mResponse.recv\u001b[1;34m(self, type)\u001b[0m\n\u001b[0;32m    267\u001b[0m message \u001b[38;5;241m=\u001b[39m \u001b[38;5;28mself\u001b[39m\u001b[38;5;241m.\u001b[39mconnection\u001b[38;5;241m.\u001b[39mrecv(\u001b[38;5;28mself\u001b[39m\u001b[38;5;241m.\u001b[39mreq_id)\n\u001b[0;32m    268\u001b[0m \u001b[38;5;28;01mif\u001b[39;00m \u001b[38;5;28misinstance\u001b[39m(message, \u001b[38;5;167;01mException\u001b[39;00m):\n\u001b[1;32m--> 269\u001b[0m     \u001b[38;5;28;01mraise\u001b[39;00m message\n\u001b[0;32m    270\u001b[0m \u001b[38;5;28;01mif\u001b[39;00m \u001b[38;5;28mtype\u001b[39m \u001b[38;5;129;01mand\u001b[39;00m message[\u001b[38;5;124m'\u001b[39m\u001b[38;5;124mtype\u001b[39m\u001b[38;5;124m'\u001b[39m] \u001b[38;5;241m!=\u001b[39m \u001b[38;5;28mtype\u001b[39m:\n\u001b[0;32m    271\u001b[0m     \u001b[38;5;28;01mraise\u001b[39;00m BNGValueError(\u001b[38;5;124mf\u001b[39m\u001b[38;5;124m'\u001b[39m\u001b[38;5;124mGot Message type \u001b[39m\u001b[38;5;124m\"\u001b[39m\u001b[38;5;132;01m{\u001b[39;00mmessage[\u001b[38;5;124m\"\u001b[39m\u001b[38;5;124mtype\u001b[39m\u001b[38;5;124m\"\u001b[39m]\u001b[38;5;132;01m}\u001b[39;00m\u001b[38;5;124m\"\u001b[39m\u001b[38;5;124m but expected \u001b[39m\u001b[38;5;124m\"\u001b[39m\u001b[38;5;132;01m{\u001b[39;00m\u001b[38;5;28mtype\u001b[39m\u001b[38;5;132;01m}\u001b[39;00m\u001b[38;5;124m\"\u001b[39m\u001b[38;5;124m.\u001b[39m\u001b[38;5;124m'\u001b[39m)\n",
      "\u001b[1;31mBNGError\u001b[0m: The request was not handled by BeamNG.tech. This can mean:\n- an incompatible version of BeamNG.tech/BeamNGpy\n- an internal error in BeamNG.tech\n- incorrectly implemented custom command"
     ]
    }
   ],
   "source": [
    "dataExchange(bng)"
   ]
  },
  {
   "cell_type": "code",
   "execution_count": 6,
   "metadata": {},
   "outputs": [
    {
     "name": "stdout",
     "output_type": "stream",
     "text": [
      "{'FL': 0.0001985326561894025, 'FR': -0.00024019155751480923, 'RL': 0.0003239155953987573, 'RR': -4.050501656638155e-05}\n",
      "{'FL': -0.00021918694793887717, 'FR': 0.00012448428758579015, 'RL': 0.00010568498071708393, 'RR': 0.00010585274229929317}\n",
      "{'FL': -0.0001341046413751752, 'FR': 9.776496634924538e-05, 'RL': -9.381233345182587e-05, 'RR': -6.01950762993573e-06}\n",
      "{'FL': -0.00040989346806633644, 'FR': 3.832611585046965e-05, 'RL': -0.00010345402833690593, 'RR': -8.183875709696551e-05}\n",
      "{'FL': -0.00033335501771926727, 'FR': -7.979532293809347e-06, 'RL': -0.00015274061112658446, 'RR': 8.169514165807695e-05}\n",
      "{'FL': -1.2560122123296855e-06, 'FR': -0.00042291890154838764, 'RL': 3.200361253442757e-05, 'RR': -0.0003711077123460736}\n",
      "{'FL': -0.00024117126729331935, 'FR': -0.0003697670426924729, 'RL': -9.925491957063318e-05, 'RR': -0.00014816228527858645}\n",
      "{'FL': 7.219912466606667e-05, 'FR': 7.953632570031467e-05, 'RL': 5.4173212858734116e-05, 'RR': 0.00015939221616827727}\n",
      "{'FL': -2.5206706634692704e-05, 'FR': 0.00024581085145642745, 'RL': -0.00017692572384319475, 'RR': -0.0001352855681684487}\n",
      "{'FL': 0.00044543929730723564, 'FR': 0.00034836210513808006, 'RL': -8.283967355418442e-05, 'RR': 0.00025880785553065126}\n"
     ]
    }
   ],
   "source": [
    "def getWheelSpeeds(veh):\n",
    "    data = dict(type='GetWheelSpeeds')\n",
    "    response = veh.connection.send(data)\n",
    "    return response.recv()\n",
    "\n",
    "import time\n",
    "for _ in range(10):\n",
    "    print(getWheelSpeeds(etk))\n",
    "    time.sleep(1.0)"
   ]
  },
  {
   "cell_type": "markdown",
   "metadata": {},
   "source": [
    "### Don't see anything?\n",
    "\n",
    "If you have trouble finding the messages in the log file or command prompt, search for 'gameEngineCode' or 'vehicleEngineCode'. These are the log tags of the respective modules."
   ]
  },
  {
   "cell_type": "code",
   "execution_count": null,
   "metadata": {
    "tags": []
   },
   "outputs": [
    {
     "name": "stderr",
     "output_type": "stream",
     "text": [
      "2024-02-26 16:51:04,653 |INFO     |beamngpy.BeamNGpy             |Closing BeamNGpy instance.\n",
      "2024-02-26 16:51:04,655 |INFO     |beamngpy.Vehicle              |Disconnected from vehicle some_vehicle and detached sensors.\n",
      "2024-02-26 16:51:04,655 |INFO     |beamngpy.Vehicle              |Disconnected from vehicle ego_vehicle and detached sensors.\n",
      "2024-02-26 16:51:04,656 |INFO     |beamngpy.BeamNGpy             |Terminating BeamNG.tech process.\n",
      "2024-02-26 16:51:04,798 |WARNING  |py.warnings                   |c:\\Users\\Tymon\\miniconda3\\envs\\beamng\\Lib\\subprocess.py:1127: ResourceWarning: subprocess 12616 is still running\n",
      "  _warn(\"subprocess %s is still running\" % self.pid,\n",
      "\n",
      "2024-02-26 16:51:04,798 |WARNING  |py.warnings                   |c:\\Users\\Tymon\\miniconda3\\envs\\beamng\\Lib\\subprocess.py:1127: ResourceWarning: subprocess 12616 is still running\n",
      "  _warn(\"subprocess %s is still running\" % self.pid,\n",
      "\n",
      "2024-02-26 16:51:04,800 |WARNING  |py.warnings                   |c:\\Users\\Tymon\\miniconda3\\envs\\beamng\\Lib\\site-packages\\beamngpy\\beamng\\beamng.py:300: ResourceWarning: unclosed file <_io.BufferedWriter name=3>\n",
      "  self.process = None\n",
      "\n",
      "2024-02-26 16:51:04,800 |WARNING  |py.warnings                   |c:\\Users\\Tymon\\miniconda3\\envs\\beamng\\Lib\\site-packages\\beamngpy\\beamng\\beamng.py:300: ResourceWarning: unclosed file <_io.BufferedWriter name=3>\n",
      "  self.process = None\n",
      "\n"
     ]
    }
   ],
   "source": [
    "bng.close()"
   ]
  }
 ],
 "metadata": {
  "kernelspec": {
   "display_name": "beamng",
   "language": "python",
   "name": "python3"
  },
  "language_info": {
   "codemirror_mode": {
    "name": "ipython",
    "version": 3
   },
   "file_extension": ".py",
   "mimetype": "text/x-python",
   "name": "python",
   "nbconvert_exporter": "python",
   "pygments_lexer": "ipython3",
   "version": "3.11.5"
  }
 },
 "nbformat": 4,
 "nbformat_minor": 4
}
